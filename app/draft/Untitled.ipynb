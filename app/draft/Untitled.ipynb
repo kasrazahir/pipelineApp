{
 "cells": [
  {
   "cell_type": "code",
   "execution_count": 70,
   "metadata": {},
   "outputs": [],
   "source": [
    "import pandas as pd\n",
    "from datetime import datetime, timedelta\n",
    "\n",
    "dates = {\"begDate\":\"2017-06-04\",'endDate':\"2017-5\"}\n",
    "dateDf = pd.DataFrame(dates, index=['date'])\n",
    "dateDf.to_csv(\"dates\")"
   ]
  },
  {
   "cell_type": "code",
   "execution_count": 42,
   "metadata": {},
   "outputs": [
    {
     "data": {
      "text/plain": [
       "date   2017-06-04\n",
       "Name: begDate, dtype: datetime64[ns]"
      ]
     },
     "execution_count": 42,
     "metadata": {},
     "output_type": "execute_result"
    }
   ],
   "source": [
    "dates = pd.read_csv(\"dates.csv\",index_col=[0])\n",
    "pd.to_datetime(dates['begDate'])"
   ]
  },
  {
   "cell_type": "code",
   "execution_count": 94,
   "metadata": {},
   "outputs": [
    {
     "name": "stdout",
     "output_type": "stream",
     "text": [
      "yearBegin  2018 - 01  yearEnd  2018 - 13 This Period 2018 - 7 NinetyDayEnd  2018 - 10 beginningDate  2018-06-04 00:00:00 period date  2018-11-19 00:00:00\n"
     ]
    }
   ],
   "source": [
    "dateDf = pd.read_csv(\"../static/db.csv\",index_col=[0])\n",
    "\n",
    "yearValue = dateDf['thisPeriodYear'].values[0]\n",
    "monthValue = dateDf['thisPeriodMonth'].values[0]\n",
    "yearValue = 2018\n",
    "monthValue = 7\n",
    "yearBegin = str(yearValue)+\" - 01\"\n",
    "yearEnd = str(yearValue)+\" - 13\"\n",
    "thisPeriod = str(yearValue)+\" - \"+str(monthValue)\n",
    "NinetyDayEnd = str(yearValue)+\" - \"+str(monthValue+3)\n",
    "beginningDate = datetime(2018, 6, 4, 0, 0)+timedelta(days=int(364*(yearValue-2018)))\n",
    "priodDate = beginningDate + timedelta(days=int(28*(monthValue-1)))\n",
    "\n",
    "# datetime.datetime(dateDf['thisPeriodYear'].values[0], dateDf['thisPeriodMonth'].values[0], 1)\n",
    "# pd.to_datetime(doto)\n"
   ]
  },
  {
   "cell_type": "code",
   "execution_count": 65,
   "metadata": {},
   "outputs": [],
   "source": [
    "dato = datetime(2017, 6, 4, 0, 0)"
   ]
  },
  {
   "cell_type": "code",
   "execution_count": 66,
   "metadata": {},
   "outputs": [
    {
     "data": {
      "text/plain": [
       "datetime.datetime(2017, 6, 4, 0, 0)"
      ]
     },
     "execution_count": 66,
     "metadata": {},
     "output_type": "execute_result"
    }
   ],
   "source": [
    "dato"
   ]
  },
  {
   "cell_type": "code",
   "execution_count": 74,
   "metadata": {},
   "outputs": [
    {
     "data": {
      "text/plain": [
       "datetime.datetime(2017, 11, 19, 0, 0)"
      ]
     },
     "execution_count": 74,
     "metadata": {},
     "output_type": "execute_result"
    }
   ],
   "source": [
    "dato + timedelta(days=28*(7-1))"
   ]
  },
  {
   "cell_type": "raw",
   "metadata": {},
   "source": []
  },
  {
   "cell_type": "code",
   "execution_count": 88,
   "metadata": {},
   "outputs": [
    {
     "data": {
      "text/plain": [
       "datetime.datetime(2018, 6, 4, 0, 0)"
      ]
     },
     "execution_count": 88,
     "metadata": {},
     "output_type": "execute_result"
    }
   ],
   "source": [
    "datetime(2018, 6, 4, 0, 0)+timedelta(days=int(364*(yearValue-2018)))\n"
   ]
  },
  {
   "cell_type": "code",
   "execution_count": null,
   "metadata": {},
   "outputs": [],
   "source": []
  },
  {
   "cell_type": "code",
   "execution_count": null,
   "metadata": {
    "collapsed": true
   },
   "outputs": [],
   "source": []
  }
 ],
 "metadata": {
  "kernelspec": {
   "display_name": "Python 3",
   "language": "python",
   "name": "python3"
  },
  "language_info": {
   "codemirror_mode": {
    "name": "ipython",
    "version": 3
   },
   "file_extension": ".py",
   "mimetype": "text/x-python",
   "name": "python",
   "nbconvert_exporter": "python",
   "pygments_lexer": "ipython3",
   "version": "3.6.1"
  }
 },
 "nbformat": 4,
 "nbformat_minor": 2
}
