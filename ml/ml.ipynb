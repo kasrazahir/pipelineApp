{
 "cells": [
  {
   "cell_type": "code",
   "execution_count": 48,
   "metadata": {
    "collapsed": true
   },
   "outputs": [],
   "source": [
    "import pandas as pd\n",
    "import numpy as np\n",
    "import seaborn as sns\n",
    "%matplotlib inline\n",
    "from sklearn.preprocessing import StandardScaler\n",
    "from sklearn.linear_model import LogisticRegression\n",
    "from sklearn.model_selection import train_test_split\n",
    "from sklearn.ensemble import RandomForestClassifier\n",
    "from sklearn.metrics import classification_report, confusion_matrix, precision_score, accuracy_score\n"
   ]
  },
  {
   "cell_type": "code",
   "execution_count": 197,
   "metadata": {},
   "outputs": [],
   "source": [
    "targetPeriod=\"2018 - 01\"\n",
    "CurrentYear = 2018\n",
    "\n",
    "# create a list of all periods\n",
    "allPeriods = []\n",
    "for i in range (1,14):\n",
    "     allPeriods.append(str(CurrentYear)+ ' - ' +  str(\"%02d\" % (i,)))\n",
    "\n",
    "futurePeriods = [i for i in allPeriods if i >= targetPeriod]\n"
   ]
  },
  {
   "cell_type": "code",
   "execution_count": 198,
   "metadata": {},
   "outputs": [],
   "source": [
    "data = pd.read_excel('../data.xlsx')\n",
    "data = data[[\n",
    "       'Total Estimated Revenue', \n",
    "       'Current Status', 'Sales Stage',\n",
    "        'Service Line Group', 'Service Line', \"Close Period\",\n",
    "       'Industry', \n",
    "       'Market']]\n",
    "data = data[data['Service Line Group'] == \"Technology\"]\n",
    "data['Current Status'].fillna(\"nothing\", inplace=True)\n",
    "data['OSL']=data['Current Status'].str.contains('OSL')\n",
    "data['OSL'].replace([False,True],[0,1],inplace=True)\n",
    "data.drop(\"Current Status\", axis=1, inplace=True)\n",
    "data.drop(\"Service Line Group\", axis=1, inplace=True)"
   ]
  },
  {
   "cell_type": "code",
   "execution_count": 199,
   "metadata": {},
   "outputs": [],
   "source": [
    "sl = pd.get_dummies(data[\"Service Line\"], drop_first=True)\n",
    "ind = pd.get_dummies(data[\"Industry\"], drop_first=True)\n",
    "mark = pd.get_dummies(data[\"Market\"], drop_first=True)\n",
    "data.drop(\"Service Line\", axis=1, inplace=True)\n",
    "data.drop(\"Industry\", axis=1, inplace=True)\n",
    "data.drop(\"Market\", axis=1, inplace=True)\n",
    "data = pd.concat([data, sl, ind, mark],axis=1)\n"
   ]
  },
  {
   "cell_type": "code",
   "execution_count": 200,
   "metadata": {
    "collapsed": true
   },
   "outputs": [],
   "source": [
    "\n",
    "closeDeals = data[data['Sales Stage'].str.contains(\"Closed\")].copy()\n",
    "closeDeals.drop(\"Close Period\", axis=1, inplace = True)\n",
    "closeDeals['Sales Stage'].replace([\"06 - Closed - Sold/Fermer - Vendu\",\"07 - Closed - Lost/Fermer - Perdu\", \"08 - Closed - Abandoned/Fermer - Abandonné\"],[1,0,0],inplace=True)\n",
    "\n"
   ]
  },
  {
   "cell_type": "code",
   "execution_count": 201,
   "metadata": {
    "collapsed": true
   },
   "outputs": [],
   "source": [
    "x= closeDeals.drop('Sales Stage', axis=1)\n",
    "y= closeDeals['Sales Stage']"
   ]
  },
  {
   "cell_type": "code",
   "execution_count": 202,
   "metadata": {
    "collapsed": true
   },
   "outputs": [],
   "source": [
    "scaler = StandardScaler()\n",
    "scaler.fit(x)\n",
    "x = scaler.transform(x)"
   ]
  },
  {
   "cell_type": "code",
   "execution_count": 203,
   "metadata": {
    "collapsed": true
   },
   "outputs": [],
   "source": [
    "x_train, x_test, y_train, y_test = train_test_split(x,y,test_size=0.33)"
   ]
  },
  {
   "cell_type": "code",
   "execution_count": 204,
   "metadata": {
    "collapsed": true
   },
   "outputs": [],
   "source": [
    "lg = LogisticRegression()\n",
    "lg.fit(x_train, y_train)\n",
    "pred=lg.predict(x_test)\n"
   ]
  },
  {
   "cell_type": "code",
   "execution_count": 205,
   "metadata": {
    "collapsed": true
   },
   "outputs": [],
   "source": [
    "rf = RandomForestClassifier()\n",
    "rf.fit(x_train, y_train)\n",
    "pred = rf.predict(x_test)"
   ]
  },
  {
   "cell_type": "code",
   "execution_count": 206,
   "metadata": {},
   "outputs": [
    {
     "name": "stdout",
     "output_type": "stream",
     "text": [
      "             precision    recall  f1-score   support\n",
      "\n",
      "          0       0.73      0.79      0.76       170\n",
      "          1       0.61      0.51      0.56       105\n",
      "\n",
      "avg / total       0.68      0.69      0.68       275\n",
      "\n",
      "[[135  35]\n",
      " [ 51  54]]\n"
     ]
    }
   ],
   "source": [
    "\n",
    "print(classification_report(y_test, pred))\n",
    "print(confusion_matrix(y_test, pred))"
   ]
  },
  {
   "cell_type": "code",
   "execution_count": 176,
   "metadata": {
    "collapsed": true
   },
   "outputs": [],
   "source": [
    "preddata = data[data['Close Period']==targetPeriod].copy()\n",
    "preddata= preddata[~preddata['Sales Stage'].str.contains('Closed')]\n",
    "preddata = preddata.drop('Sales Stage', axis=1)\n",
    "preddata = preddata.drop(\"Close Period\", axis=1)"
   ]
  },
  {
   "cell_type": "code",
   "execution_count": null,
   "metadata": {},
   "outputs": [],
   "source": []
  },
  {
   "cell_type": "code",
   "execution_count": 177,
   "metadata": {},
   "outputs": [],
   "source": [
    "scaler = StandardScaler()\n",
    "scaler.fit(preddata)\n",
    "predscaled = scaler.transform(preddata)"
   ]
  },
  {
   "cell_type": "code",
   "execution_count": 178,
   "metadata": {
    "collapsed": true
   },
   "outputs": [],
   "source": [
    "newpred = rf.predict(predscaled)\n",
    "newpred_prob = rf.predict_proba(predscaled )"
   ]
  },
  {
   "cell_type": "code",
   "execution_count": 179,
   "metadata": {},
   "outputs": [
    {
     "data": {
      "text/plain": [
       "83533773.50000001"
      ]
     },
     "execution_count": 179,
     "metadata": {},
     "output_type": "execute_result"
    }
   ],
   "source": [
    "np.multiply([row[1] for row in newpred_prob] , preddata['Total Estimated Revenue']).sum()\n",
    "# preddata[newpred==1]"
   ]
  },
  {
   "cell_type": "code",
   "execution_count": 180,
   "metadata": {
    "collapsed": true
   },
   "outputs": [],
   "source": [
    "def runRf(x,y,predx):\n",
    "    x_train = x\n",
    "    y_train = y\n",
    "    rf = RandomForestClassifier()\n",
    "#     rf = LogisticRegression()\n",
    "    rf.fit(x_train, y_train)\n",
    "    newpred_prob = rf.predict_proba(predscaled )\n",
    "    result = np.multiply([row[1] for row in newpred_prob] , preddata['Total Estimated Revenue']).sum()\n",
    "#     return([result, accuracy_score(y_test, pred)])\n",
    "    return result"
   ]
  },
  {
   "cell_type": "code",
   "execution_count": 181,
   "metadata": {},
   "outputs": [],
   "source": [
    "result =[]\n",
    "for i in range(1,100):\n",
    "    result.append(runRf(x,y,predscaled))\n",
    "result = np.array(result)"
   ]
  },
  {
   "cell_type": "code",
   "execution_count": 182,
   "metadata": {},
   "outputs": [
    {
     "data": {
      "text/plain": [
       "<matplotlib.axes._subplots.AxesSubplot at 0x1a141c8630>"
      ]
     },
     "execution_count": 182,
     "metadata": {},
     "output_type": "execute_result"
    },
    {
     "data": {
      "image/png": "[encoded data removed]",
      "text/plain": [
       "<matplotlib.figure.Figure at 0x10a8885c0>"
      ]
     },
     "metadata": {},
     "output_type": "display_data"
    }
   ],
   "source": [
    "# resultpd['pred'].hist(bins=40)\n",
    "sns.distplot(result)"
   ]
  },
  {
   "cell_type": "code",
   "execution_count": 183,
   "metadata": {},
   "outputs": [
    {
     "data": {
      "text/plain": [
       "<matplotlib.axes._subplots.AxesSubplot at 0x1a141c0240>"
      ]
     },
     "execution_count": 183,
     "metadata": {},
     "output_type": "execute_result"
    },
    {
     "data": {
      "image/png": "[encoded data removed]",
      "text/plain": [
       "<matplotlib.figure.Figure at 0x110227f60>"
      ]
     },
     "metadata": {},
     "output_type": "display_data"
    }
   ],
   "source": [
    "sns.boxplot(result)"
   ]
  },
  {
   "cell_type": "code",
   "execution_count": 184,
   "metadata": {},
   "outputs": [
    {
     "name": "stdout",
     "output_type": "stream",
     "text": [
      "76650787.0375\n",
      "76534668.7544\n",
      "76153456.3\n"
     ]
    }
   ],
   "source": [
    "# np.percentile(result, 25)\n",
    "percs = np.percentile(result, [25,50,75])\n",
    "print((percs[0]+percs[2])/2)\n",
    "print (result.mean())\n",
    "print(percs[1])"
   ]
  },
  {
   "cell_type": "code",
   "execution_count": 185,
   "metadata": {},
   "outputs": [
    {
     "name": "stdout",
     "output_type": "stream",
     "text": [
      "Actual Sold\n"
     ]
    },
    {
     "data": {
      "text/plain": [
       "80224880"
      ]
     },
     "execution_count": 185,
     "metadata": {},
     "output_type": "execute_result"
    }
   ],
   "source": [
    "newdata = pd.read_excel('../datanew.xlsx')\n",
    "newdata = newdata[newdata['Service Line Group']=='Technology']\n",
    "print('Actual Sold')\n",
    "newdata[(newdata['Close Period'] == targetPeriod)&(newdata['Sales Stage'].str.contains(\"Sold\"))].sum()['Total Estimated Revenue']"
   ]
  },
  {
   "cell_type": "code",
   "execution_count": null,
   "metadata": {
    "collapsed": true
   },
   "outputs": [],
   "source": []
  },
  {
   "cell_type": "code",
   "execution_count": null,
   "metadata": {
    "collapsed": true
   },
   "outputs": [],
   "source": []
  },
  {
   "cell_type": "code",
   "execution_count": 210,
   "metadata": {},
   "outputs": [],
   "source": [
    "# Create Forecast\n"
   ]
  },
  {
   "cell_type": "code",
   "execution_count": 208,
   "metadata": {},
   "outputs": [],
   "source": [
    "allResults = []\n",
    "\n",
    "for period in futurePeriods:\n",
    "    preddata = data[data['Close Period']==period].copy()\n",
    "    alreadySold = preddata[preddata['Sales Stage']==\"06 - Closed - Sold/Fermer - Vendu\"].sum()['Total Estimated Revenue']\n",
    "    preddata = preddata[~preddata['Sales Stage'].str.contains('Closed')]\n",
    "    preddata = preddata.drop('Sales Stage', axis=1)\n",
    "    preddata = preddata.drop(\"Close Period\", axis=1)\n",
    "    if (preddata.shape[0]>0):\n",
    "        scaler = StandardScaler()\n",
    "        scaler.fit(preddata)\n",
    "        predscaled = scaler.transform(preddata)\n",
    "        newpred = rf.predict(predscaled)\n",
    "        newpred_prob = rf.predict_proba(predscaled )\n",
    "        np.multiply([row[1] for row in newpred_prob] , preddata['Total Estimated Revenue']).sum()\n",
    "        result =[]\n",
    "        for i in range(1,200):\n",
    "            result.append(runRf(x,y,predscaled))\n",
    "        result = np.array(result)\n",
    "        allResults.append(result.mean()+alreadySold)\n",
    "    else:\n",
    "        allResults.append(alreadySold)\n",
    "    \n",
    "\n",
    "allResults = pd.DataFrame(allResults, futurePeriods)"
   ]
  },
  {
   "cell_type": "code",
   "execution_count": null,
   "metadata": {},
   "outputs": [],
   "source": []
  },
  {
   "cell_type": "code",
   "execution_count": 209,
   "metadata": {},
   "outputs": [
    {
     "name": "stdout",
     "output_type": "stream",
     "text": [
      "                      0\n",
      "2018 - 01  5.824486e+07\n",
      "2018 - 02  2.415322e+07\n",
      "2018 - 03  4.526061e+07\n",
      "2018 - 04  6.713640e+07\n",
      "2018 - 05  7.587479e+07\n",
      "2018 - 06  1.168352e+08\n",
      "2018 - 07  5.240342e+07\n",
      "2018 - 08  1.602674e+08\n",
      "2018 - 09  9.842651e+07\n",
      "2018 - 10  6.378423e+07\n",
      "2018 - 11  3.218548e+07\n",
      "2018 - 12  2.052386e+07\n",
      "2018 - 13  1.829167e+07\n"
     ]
    },
    {
     "data": {
      "image/png": "[encoded data removed]",
      "text/plain": [
       "<matplotlib.figure.Figure at 0x1064705f8>"
      ]
     },
     "metadata": {},
     "output_type": "display_data"
    }
   ],
   "source": [
    "import matplotlib.pyplot as plt\n",
    "target = pd.read_csv(\"../target.csv\")\n",
    "\n",
    "# target = target[target['date'].values >=targetPeriod]\n",
    "target.set_index('date', inplace=True)\n",
    "sns.set_style(\"whitegrid\")\n",
    "ax = target.plot(c='r', figsize=(18,8), label=\"Target\")\n",
    "print(allResults)\n",
    "\n",
    "ax = allResults.plot.bar(ax=ax, label=\"line 1\")\n",
    "ax.legend(['Target', 'Forecast'], prop={'size': 16})\n",
    "plt.savefig('foo.png')\n"
   ]
  },
  {
   "cell_type": "code",
   "execution_count": null,
   "metadata": {
    "collapsed": true
   },
   "outputs": [],
   "source": []
  },
  {
   "cell_type": "code",
   "execution_count": null,
   "metadata": {},
   "outputs": [],
   "source": [
    "\n"
   ]
  },
  {
   "cell_type": "code",
   "execution_count": null,
   "metadata": {
    "collapsed": true
   },
   "outputs": [],
   "source": []
  },
  {
   "cell_type": "code",
   "execution_count": null,
   "metadata": {
    "collapsed": true
   },
   "outputs": [],
   "source": []
  }
 ],
 "metadata": {
  "kernelspec": {
   "display_name": "Python 3",
   "language": "python",
   "name": "python3"
  },
  "language_info": {
   "codemirror_mode": {
    "name": "ipython",
    "version": 3
   },
   "file_extension": ".py",
   "mimetype": "text/x-python",
   "name": "python",
   "nbconvert_exporter": "python",
   "pygments_lexer": "ipython3",
   "version": "3.6.3"
  }
 },
 "nbformat": 4,
 "nbformat_minor": 2
}
