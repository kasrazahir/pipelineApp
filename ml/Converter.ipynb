{
 "cells": [
  {
   "cell_type": "code",
   "execution_count": 2,
   "metadata": {},
   "outputs": [],
   "source": [
    "import pandas as pd\n"
   ]
  },
  {
   "cell_type": "code",
   "execution_count": 32,
   "metadata": {},
   "outputs": [],
   "source": [
    "path=\"../../History/processed/\"\n",
    "files=[\"FY18-P1\", \"FY18-P2\", \"FY18-P3\", \"FY18-P4\", \"FY18-P5\", \"FY18-P6\", \"FY18-P7\"]\n",
    "extension=\".xlsx\""
   ]
  },
  {
   "cell_type": "code",
   "execution_count": 34,
   "metadata": {},
   "outputs": [],
   "source": [
    "for fileName in files:\n",
    "    file = path+fileName+extension\n",
    "    data = pd.read_excel(file).set_index('Id#')\n",
    "    data.rename(columns={\"Service Line Group\":\"Market Offering Solution\", \n",
    "                         \"Service Line\": \"Market Offering\", \n",
    "                         \"Service\":\"Market Offering Category\", \n",
    "                         \"Total Estimated Revenue\":\"Total Est. Engagement Revenue\",\n",
    "                         \"Total Third Party Estimated Revenue\": \"Est. Third Party Revenue\",\n",
    "                         \"Total Estimated NSR\":\"Est. Engagement NSR\",\n",
    "                        },inplace=True)\n",
    "\n",
    "    data.to_excel(file)"
   ]
  },
  {
   "cell_type": "code",
   "execution_count": null,
   "metadata": {},
   "outputs": [],
   "source": []
  },
  {
   "cell_type": "code",
   "execution_count": null,
   "metadata": {
    "collapsed": true
   },
   "outputs": [],
   "source": []
  },
  {
   "cell_type": "code",
   "execution_count": null,
   "metadata": {
    "collapsed": true
   },
   "outputs": [],
   "source": []
  }
 ],
 "metadata": {
  "kernelspec": {
   "display_name": "Python 3",
   "language": "python",
   "name": "python3"
  },
  "language_info": {
   "codemirror_mode": {
    "name": "ipython",
    "version": 3
   },
   "file_extension": ".py",
   "mimetype": "text/x-python",
   "name": "python",
   "nbconvert_exporter": "python",
   "pygments_lexer": "ipython3",
   "version": "3.6.3"
  }
 },
 "nbformat": 4,
 "nbformat_minor": 2
}
